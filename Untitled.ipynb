{
 "cells": [
  {
   "cell_type": "code",
   "execution_count": 3,
   "id": "6fd4780e-108e-4410-8b2b-fb10438ec479",
   "metadata": {},
   "outputs": [],
   "source": [
    "import pandas as pd\n",
    "import glob\n",
    "import os\n",
    "from sklearn.cluster import KMeans\n",
    "import seaborn as sns\n",
    "import matplotlib.pyplot as plt\n",
    "from sklearn.cluster import KMeans\n",
    "from sklearn.decomposition import PCA\n",
    "import numpy as np\n",
    "from statsmodels.tsa.stattools import adfuller\n",
    "from statsmodels.tsa.arima.model import ARIMA\n",
    "from sklearn.linear_model import LinearRegression\n",
    "from sklearn.model_selection import train_test_split\n",
    "from sklearn.metrics import mean_absolute_error, mean_squared_error\n",
    "import tensorflow as tf\n",
    "from sklearn.preprocessing import MinMaxScaler\n",
    "from tensorflow.keras.models import Sequential\n",
    "from tensorflow.keras.layers import LSTM, Dense\n",
    "from tensorflow.keras.preprocessing.sequence import TimeseriesGenerator\n",
    "import tensorflow as tf"
   ]
  },
  {
   "cell_type": "code",
   "execution_count": 2,
   "id": "af0c0cf8-eed7-442d-b1bb-a7020cc83157",
   "metadata": {},
   "outputs": [
    {
     "name": "stdout",
     "output_type": "stream",
     "text": [
      "Processing: C:\\Users\\attafuro\\Desktop\\EV Charging Analysis\\d03_text_station_hour_2024_10.txt\n",
      "Deleted: C:\\Users\\attafuro\\Desktop\\EV Charging Analysis\\d03_text_station_hour_2024_10.txt\n",
      "Processing: C:\\Users\\attafuro\\Desktop\\EV Charging Analysis\\d03_text_station_hour_2024_11.txt\n",
      "Deleted: C:\\Users\\attafuro\\Desktop\\EV Charging Analysis\\d03_text_station_hour_2024_11.txt\n",
      "Processing: C:\\Users\\attafuro\\Desktop\\EV Charging Analysis\\d03_text_station_hour_2024_12.txt\n",
      "Deleted: C:\\Users\\attafuro\\Desktop\\EV Charging Analysis\\d03_text_station_hour_2024_12.txt\n",
      " Merge completed! CSV saved as 'C:\\Users\\attafuro\\Desktop\\EV Charging Analysis\\merged_3months_traffic_data.csv'\n"
     ]
    }
   ],
   "source": [
    "# Define folder path where the .txt files are located\n",
    "folder_path = r\"C:\\Users\\attafuro\\Desktop\\EV Charging Analysis\"\n",
    "output_file = os.path.join(folder_path, \"merged_3months_traffic_data.csv\")\n",
    "\n",
    "# Get all .txt files in the folder\n",
    "file_paths = glob.glob(os.path.join(folder_path, \"*.txt\"))\n",
    "\n",
    "# Merge all .txt files into one CSV and delete the originals\n",
    "with open(output_file, \"w\") as output:\n",
    "    first_file = True\n",
    "\n",
    "    for file in file_paths:\n",
    "        print(f\"Processing: {file}\")\n",
    "        \n",
    "        # Read and write the .txt file in chunks (to handle large files efficiently)\n",
    "        for chunk in pd.read_csv(file, delimiter=\",\", chunksize=10000):\n",
    "            chunk.to_csv(output, index=False, header=first_file, mode=\"a\")\n",
    "            first_file = False\n",
    "\n",
    "        # Delete the file after processing\n",
    "        os.remove(file)\n",
    "        print(f\"Deleted: {file}\")\n",
    "\n",
    "print(f\" Merge completed! CSV saved as '{output_file}'\")\n"
   ]
  },
  {
   "cell_type": "code",
   "execution_count": null,
   "id": "30e7eaba-8094-45f2-be09-ce2779839bce",
   "metadata": {},
   "outputs": [],
   "source": []
  },
  {
   "cell_type": "code",
   "execution_count": null,
   "id": "ad8e2b7f-4373-4624-8498-a3a6cc47ce8c",
   "metadata": {},
   "outputs": [],
   "source": []
  },
  {
   "cell_type": "code",
   "execution_count": null,
   "id": "9a334584-5986-41e4-8184-f09beec14bc9",
   "metadata": {},
   "outputs": [],
   "source": []
  },
  {
   "cell_type": "code",
   "execution_count": null,
   "id": "12f10393-0529-4434-a148-9227d9aadf99",
   "metadata": {},
   "outputs": [],
   "source": []
  }
 ],
 "metadata": {
  "kernelspec": {
   "display_name": "Python 3 (ipykernel)",
   "language": "python",
   "name": "python3"
  },
  "language_info": {
   "codemirror_mode": {
    "name": "ipython",
    "version": 3
   },
   "file_extension": ".py",
   "mimetype": "text/x-python",
   "name": "python",
   "nbconvert_exporter": "python",
   "pygments_lexer": "ipython3",
   "version": "3.12.7"
  }
 },
 "nbformat": 4,
 "nbformat_minor": 5
}
